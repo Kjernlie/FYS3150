{
 "cells": [
  {
   "cell_type": "code",
   "execution_count": 10,
   "metadata": {
    "collapsed": false
   },
   "outputs": [
    {
     "data": {
      "text/plain": [
       "(0, 1e-07)"
      ]
     },
     "execution_count": 10,
     "metadata": {},
     "output_type": "execute_result"
    },
    {
     "data": {
      "image/png": "[encoded data removed]",
      "text/plain": [
       "<matplotlib.figure.Figure at 0x7f7d351b8f90>"
      ]
     },
     "metadata": {},
     "output_type": "display_data"
    }
   ],
   "source": [
    "import numpy as np\n",
    "import matplotlib.pylab as plt\n",
    "import seaborn as sns\n",
    "import csv\n",
    "\n",
    "%matplotlib inline \n",
    "\n",
    "f_1 = []\n",
    "f_2 = []\n",
    "\n",
    "f = open(\"warmup.csv\", \"r+\")\n",
    "\n",
    "reader = csv.reader(f)\n",
    "for row in reader:\n",
    "    f_1.append(float(row[0]))\n",
    "    f_2.append(float(row[1]))\n",
    "\n",
    "f.close()\n",
    "\n",
    "f_1 = np.array(f_1)\n",
    "f_2 = np.array(f_2)\n",
    "\n",
    "N=15\n",
    "steps = np.linspace(0,N,N+1)\n",
    "\n",
    "plt.semilogx(10**(-steps),f_1, label = 'first order')\n",
    "plt.semilogx(10**(-steps),f_2, label = 'second order')\n",
    "plt.legend(loc = 'best')\n",
    "plt.ylim([0,1e-7])"
   ]
  },
  {
   "cell_type": "code",
   "execution_count": null,
   "metadata": {
    "collapsed": true
   },
   "outputs": [],
   "source": [
    "#myfile = open(\"warmup.txt\")\n",
    "\n",
    "#for line in myfile.split():\n",
    "#    numbers.append([float[i] for i in line]) \n",
    "    \n",
    "#for row\n"
   ]
  }
 ],
 "metadata": {
  "kernelspec": {
   "display_name": "Python 2",
   "language": "python",
   "name": "python2"
  },
  "language_info": {
   "codemirror_mode": {
    "name": "ipython",
    "version": 2
   },
   "file_extension": ".py",
   "mimetype": "text/x-python",
   "name": "python",
   "nbconvert_exporter": "python",
   "pygments_lexer": "ipython2",
   "version": "2.7.12"
  }
 },
 "nbformat": 4,
 "nbformat_minor": 1
}
