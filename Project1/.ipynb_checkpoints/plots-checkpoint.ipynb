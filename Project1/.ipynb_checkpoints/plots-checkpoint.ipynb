{
 "cells": [
  {
   "cell_type": "code",
   "execution_count": 9,
   "metadata": {
    "collapsed": false
   },
   "outputs": [
    {
     "data": {
      "text/plain": [
       "[<matplotlib.lines.Line2D at 0x7fa26d98c490>,\n",
       " <matplotlib.lines.Line2D at 0x7fa26d98c690>]"
      ]
     },
     "execution_count": 9,
     "metadata": {},
     "output_type": "execute_result"
    },
    {
     "data": {
      "image/png": "[encoded data removed]",
      "text/plain": [
       "<matplotlib.figure.Figure at 0x7fa26db2d450>"
      ]
     },
     "metadata": {},
     "output_type": "display_data"
    }
   ],
   "source": [
    "import matplotlib.pylab as plt\n",
    "import seaborn as sns\n",
    "%matplotlib inline\n",
    "\n",
    "file = open(\"/home/johannes/Work/FYS3150/qt creator/build-Project1-Desktop_Qt_5_7_0_GCC_64bit-Debug/numbers10.txt\")\n",
    "\n",
    "\n",
    "\n",
    "numbers = []\n",
    "x1 = []\n",
    "u1 = []\n",
    "v1 = [] \n",
    "\n",
    "for line in file:\n",
    "    numbers.append([float(i) for i in line.split()])\n",
    "    \n",
    "for row in numbers:\n",
    "    x1.append(row[0])\n",
    "    u1.append(row[1])\n",
    "    v1.append(row[2])\n",
    "\n",
    "\n",
    "plt.plot(x1,u1,'r',x1,v1,'g') "
   ]
  },
  {
   "cell_type": "code",
   "execution_count": 51,
   "metadata": {
    "collapsed": false
   },
   "outputs": [
    {
     "data": {
      "text/plain": [
       "array([ 0.332967  ,  0.3006325 ,  0.25446907,  0.212627  ,  0.17887461,\n",
       "        0.15259673,  0.13222124,  0.11626732,  0.10357988,  0.09331502])"
      ]
     },
     "execution_count": 51,
     "metadata": {},
     "output_type": "execute_result"
    }
   ],
   "source": [
    "file = open(\"/home/johannes/Work/FYS3150/qt creator/build-Project1-Desktop_Qt_5_7_0_GCC_64bit-Debug/numbers100.txt\")\n",
    "\n",
    "numbers = []\n",
    "x2 = []\n",
    "u2 = []\n",
    "v2 = [] \n",
    "\n",
    "for line in file:\n",
    "    numbers.append([float(i) for i in line.split()])\n",
    "    \n",
    "for row in numbers:\n",
    "    x.append(row[0])\n",
    "    u.append(row[1])\n",
    "    v.append(row[2])"
   ]
  },
  {
   "cell_type": "code",
   "execution_count": 7,
   "metadata": {
    "collapsed": true
   },
   "outputs": [],
   "source": [
    "file = open(\"/home/johannes/Work/FYS3150/qt creator/build-Project1-Desktop_Qt_5_7_0_GCC_64bit-Debug/numbers1000.txt\")\n",
    "\n",
    "numbers = []\n",
    "x3 = []\n",
    "u3 = []\n",
    "v3 = []\n",
    "\n",
    "for line in file:\n",
    "    numbers.append([float(i) for i in line.split()])\n",
    "    \n",
    "for row in numbers:\n",
    "    x.append(row[0])\n",
    "    u.append(row[1])\n",
    "    v.append(row[2])"
   ]
  },
  {
   "cell_type": "code",
   "execution_count": null,
   "metadata": {
    "collapsed": true
   },
   "outputs": [],
   "source": [
    "\n",
    "f, axarr = plt.subplots(3, sharex = True)\n",
    "axarr[0].plot(x1, u1, x1, v1)\n",
    "axarr[1].plot(x2, u2, x2, v2)\n",
    "axarr[2].plot(x3, u3, x3, v3)"
   ]
  }
 ],
 "metadata": {
  "kernelspec": {
   "display_name": "Python 2",
   "language": "python",
   "name": "python2"
  },
  "language_info": {
   "codemirror_mode": {
    "name": "ipython",
    "version": 2
   },
   "file_extension": ".py",
   "mimetype": "text/x-python",
   "name": "python",
   "nbconvert_exporter": "python",
   "pygments_lexer": "ipython2",
   "version": "2.7.12"
  }
 },
 "nbformat": 4,
 "nbformat_minor": 1
}
